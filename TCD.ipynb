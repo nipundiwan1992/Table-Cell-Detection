{
 "cells": [
  {
   "cell_type": "code",
   "execution_count": 1,
   "metadata": {},
   "outputs": [],
   "source": [
    "import os\n",
    "from pdf2image import convert_from_path\n",
    "import cv2\n",
    "import PIL\n",
    "import pytesseract\n",
    "from pytesseract import Output\n",
    "import pandas as pd\n",
    "import time\n",
    "import numpy as np\n",
    "from sklearn.cluster import KMeans\n",
    "import matplotlib.pyplot as plt\n",
    "from sklearn.metrics import silhouette_samples, silhouette_score\n",
    "import math\n",
    "import csv"
   ]
  },
  {
   "cell_type": "code",
   "execution_count": 2,
   "metadata": {},
   "outputs": [],
   "source": [
    "def get_string(img_path):\n",
    "    # Read image using opencv\n",
    "    img = cv2.imread(img_path)\n",
    "\n",
    "    # Extract the file name without the file extension\n",
    "    file_name = os.path.basename(img_path).split('.')[0]\n",
    "    file_name = file_name.split()[0]\n",
    "\n",
    "    # Create a directory for outputs\n",
    "    output_path = os.path.join(output_dir, file_name)\n",
    "    if not os.path.exists(output_path):\n",
    "        os.makedirs(output_path)"
   ]
  },
  {
   "cell_type": "markdown",
   "metadata": {},
   "source": [
    "box=\"\"\n",
    "pdf_dir = r\"/Users/KP/Documents/\"\n",
    "os.chdir(pdf_dir)\n",
    "\n",
    "for pdf_file in os.listdir(pdf_dir):\n",
    "    if pdf_file.endswith(\".pdf\"):\n",
    "        pages = convert_from_path(pdf_file, 300)\n",
    "        pdf_file = pdf_file[:-4]\n",
    "        for page in pages:\n",
    "            page.save(\"%s-page%d.jpg\" % (pdf_file,pages.index(page)), \"JPEG\", dpi=(300,300))\n",
    "            img = cv2.imread(pdf_file+'-page'+str(pages.index(page))+'.jpg')\n",
    "            d = pytesseract.image_to_data(img, output_type=Output.DICT)\n",
    "            n_boxes = len(d['level'])\n",
    "            paragraph_boxes=[]\n",
    "            for i in range(n_boxes):\n",
    "                (x, y, w, h) = (d['left'][i], d['top'][i], d['width'][i], d['height'][i])\n",
    "                if d['level'][i]==2:#d['level'][i]!=1 and d['level'][i]!=2 and d['level']!=3:\n",
    "                    a=str(x)+\"\\t\"+str(y)+\"\\t\"+str(w)+\"\\t\"+str(h)\n",
    "                    paragraph_boxes.append(a)\n",
    "                    cv2.rectangle(img, (x, y), (x + w, y + h), (0, 255, 0), 2)\n",
    "                    #print(i,d['level'][i],\"\\t\",d['left'][i], d['top'][i], d['width'][i], d['height'][i])\n",
    "            cv2.imwrite(pdf_file+'-page'+str(pages.index(page))+'_bounded.jpg', img)\n",
    "            ctr=0\n",
    "            list_words=[]\n",
    "            temp_list=[]\n",
    "            flag=0\n",
    "            start=0\n",
    "            end=0\n",
    "            output_file=open(pdf_file+'-page'+str(pages.index(page))+\".csv\",'w')\n",
    "            box=\"X1,Y1,X2,Y2,Label\\n\"\n",
    "            for i in range(n_boxes):\n",
    "                (x, y, w, h) = (d['left'][i], d['top'][i], d['width'][i], d['height'][i])\n",
    "                if d['level'][i]==5:#d['level'][i]!=1 and d['level'][i]!=2 and d['level']!=3:\n",
    "                    para_x1=int(paragraph_boxes[ctr].split(\"\\t\")[0])\n",
    "                    para_y1=int(paragraph_boxes[ctr].split(\"\\t\")[1])\n",
    "                    para_x2=int(int(paragraph_boxes[ctr].split(\"\\t\")[0])+int(paragraph_boxes[ctr].split(\"\\t\")[2]))\n",
    "                    para_y2=int(int(paragraph_boxes[ctr].split(\"\\t\")[1])+int(paragraph_boxes[ctr].split(\"\\t\")[3]))\n",
    "                    word_x2=int(int(a.split(\"\\t\")[0])+int(a.split(\"\\t\")[2]))\n",
    "                    word_y2=int(int(a.split(\"\\t\")[1])+int(a.split(\"\\t\")[3]))\n",
    "                    if (d['left'][i]>=para_x1) & (d['top'][i]>=para_y1):\n",
    "                        #print(ctr,paragraph_boxes[ctr],para_x2,para_y2)\n",
    "                        #print(i,d['left'][i], d['top'][i],word_x2,word_y2)\n",
    "                        if(word_x2>para_x2)&(word_y2>para_y2):\n",
    "                            end=i\n",
    "                            for j in range(start,end):\n",
    "                                if d['level'][j]==5:\n",
    "                                    x1y1=(d['left'][j],d['top'][j])\n",
    "                                    x2y2=(word_x2,word_y2)\n",
    "                                    word=(x1y1,x2y2)\n",
    "                                    #print(word)\n",
    "                                    temp_list.append(word)\n",
    "                                    #print(temp_list)\n",
    "                                    flag=1\n",
    "                            if flag==1:\n",
    "                                ctr+=1\n",
    "                                start=end\n",
    "                                list_words.append(temp_list)\n",
    "                                box+=str(para_x1)+\",\"+str(para_y1)+\",\"+str(para_x2)+\",\"+str(para_y2)+\",\"+\"Paragraph\\n\"\n",
    "                                print(box)\n",
    "                                temp_list=[]\n",
    "                                flag=0\n",
    "            output_file.write(box)\n",
    "            output_file.close()"
   ]
  },
  {
   "cell_type": "markdown",
   "metadata": {},
   "source": [
    "<h1> Creating CSV for words within table"
   ]
  },
  {
   "cell_type": "code",
   "execution_count": null,
   "metadata": {
    "scrolled": true
   },
   "outputs": [],
   "source": [
    "box=\"\"\n",
    "pdf_dir = r\"/Users/KP/Documents/\"\n",
    "os.chdir(pdf_dir)\n",
    "for pdf_file in os.listdir(pdf_dir):\n",
    "    if pdf_file.endswith(\".pdf\"):\n",
    "        pages = convert_from_path(pdf_file, 300)\n",
    "        pdf_file = pdf_file[:-4]\n",
    "        for page in pages:\n",
    "            page.save(\"%s-page%d.jpg\" % (pdf_file,pages.index(page)), \"JPEG\", dpi=(300,300))\n",
    "            img = cv2.imread(pdf_file+'-page'+str(pages.index(page))+'.jpg')\n",
    "            d = pytesseract.image_to_data(img, output_type=Output.DICT)\n",
    "            n_boxes = len(d['level'])\n",
    "            #cv2.imwrite(pdf_file+'-page'+str(pages.index(page))+'_bounded.jpg', img)\n",
    "            ctr=0\n",
    "            list_words=[]\n",
    "            temp_list=[]\n",
    "            flag=0\n",
    "            start=0\n",
    "            end=0\n",
    "            output_file=open(pdf_file+'-page'+str(pages.index(page))+\".csv\",'w')\n",
    "            box=\"X1,Y1,X2,Y2,Label,Word\\n\"\n",
    "            if pages.index(page)==2:\n",
    "                for i in range(n_boxes):\n",
    "                    (x, y, w, h) = (d['left'][i], d['top'][i], d['width'][i], d['height'][i])\n",
    "                    if d['level'][i]==5:#d['level'][i]!=1 and d['level'][i]!=2 and d['level']!=3:\n",
    "                        word_x1=d['left'][i]\n",
    "                        word_y1=d['top'][i]\n",
    "                        word_x2=d['left'][i]+d['width'][i]\n",
    "                        word_y2=d['top'][i]+d['height'][i]\n",
    "                        if ((word_x1>=240 and word_y1>=693) and (word_x2<=2149 and word_y2<=1345)):\n",
    "                            print(d['text'][i])\n",
    "                            box+=str(word_x1)+\",\"+str(word_y1)+\",\"+str(word_x2)+\",\"+str(word_y2)+\",\"+\"Table Cell,\"+d['text'][i]+\"\\n\"\n",
    "                output_file.write(box)\n",
    "                output_file.close()"
   ]
  },
  {
   "cell_type": "markdown",
   "metadata": {},
   "source": [
    "<h1> Reading the created CSV and generate word bounding boxes within table"
   ]
  },
  {
   "cell_type": "code",
   "execution_count": null,
   "metadata": {},
   "outputs": [],
   "source": [
    "df=pd.read_csv(\"c4611_sample_explain-page2.csv\",header=0)\n",
    "li=[]\n",
    "Xlist=[]\n",
    "Ylist=[]\n",
    "coord=[]\n",
    "l=[]"
   ]
  },
  {
   "cell_type": "code",
   "execution_count": null,
   "metadata": {
    "scrolled": true
   },
   "outputs": [],
   "source": [
    "img = cv2.imread('c4611_sample_explain-page2.jpg')\n",
    "for i in range(len(df['X1'])):\n",
    "    (x, y, w, h) = (df['X1'][i], df['Y1'][i], df['X2'][i]-df['X1'][i], df['Y2'][i]-df['Y1'][i])\n",
    "    cv2.rectangle(img, (x, y), (x + w, y + h), (0, 255, 0), 2)\n",
    "    temp=(df['X1'][i],df['X2'][i])#+df['Y2'][i])/2)\n",
    "    Xlist.append((df['X1'][i]+df['X2'][i])/2)\n",
    "    Ylist.append((df['Y1'][i]+df['Y2'][i])/2)\n",
    "    coord.append([Xlist[i],Ylist[i]])\n",
    "    if (i<len(df['Y1'])-1) and ((df['Y1'][i+1]-df['Y1'][i])/df['Y1'][i])<0.05:\n",
    "        print(df['Y1'][i],df['Y1'][i+1])\n",
    "        l.append(df['X1'][i])\n",
    "        print(df['Word'][i],df['Word'][i+1])\n",
    "    #temp=(df['X1'][i],df['Y1'][i])\n",
    "    li.append(temp)\n",
    "    cv2.imwrite('Custom_bounded.jpg', img)"
   ]
  },
  {
   "cell_type": "markdown",
   "metadata": {},
   "source": [
    "<h1> Sort the words to identify text in same row"
   ]
  },
  {
   "cell_type": "code",
   "execution_count": null,
   "metadata": {},
   "outputs": [],
   "source": [
    "import math\n",
    "ctr=0\n",
    "l=[]\n",
    "i=0\n",
    "Final=[]\n",
    "while(i<len(df)):\n",
    "    ctr=i\n",
    "    while(ctr<len(df['X1'])):\n",
    "        if (ctr<len(df['Y1'])-1) and ((df['Y1'][ctr+1]-df['Y1'][ctr])/df['Y1'][ctr])<0.05:\n",
    "            #print(df['Y1'][ctr],df['Y1'][ctr+1],math.sqrt(abs(coord[ctr+1][1]**2)-(coord[ctr][1]**2)),df['Word'][ctr])\n",
    "            print(df['Word'][ctr],ctr,df['Word'][ctr+1])\n",
    "            l.append([float(df['X1'][ctr]),float(df['X2'][ctr]),float(math.sqrt(abs((coord[ctr+1][1]**2)-(coord[ctr][1]**2)))),df['Word'][ctr],ctr])\n",
    "            ctr+=1\n",
    "        else:\n",
    "            if (ctr<len(df['Y1'])-1) and ((df['Y1'][ctr]-df['Y1'][ctr-1])/df['Y1'][ctr-1])<0.05:\n",
    "                print(df['Word'][ctr],ctr,df['Word'][ctr+1])\n",
    "                l.append([float(df['X1'][ctr]),float(df['X2'][ctr]),float(math.sqrt(abs((coord[ctr+1][1]**2)-(coord[ctr][1]**2)))),df['Word'][ctr],ctr])\n",
    "                ctr+=1\n",
    "                i=ctr\n",
    "            else:\n",
    "                ctr+=1\n",
    "                i=ctr\n",
    "            if (len(l)>0):\n",
    "                Final.append(l)\n",
    "            l=[]\n",
    "            break"
   ]
  },
  {
   "cell_type": "code",
   "execution_count": null,
   "metadata": {},
   "outputs": [],
   "source": [
    "X=[]\n",
    "X1=[]\n",
    "for item in Final:\n",
    "    for i in item:\n",
    "        X.append(i[:3])\n",
    "        X1.append(i)\n",
    "X2=np.array(X)"
   ]
  },
  {
   "cell_type": "markdown",
   "metadata": {},
   "source": [
    "<h1> Use K-means clustering to identify columns within the table"
   ]
  },
  {
   "cell_type": "code",
   "execution_count": null,
   "metadata": {},
   "outputs": [],
   "source": [
    "wcss = []\n",
    "\n",
    "for i in range(1, len(X2)):\n",
    "    kmeans = KMeans(n_clusters = i, init = 'k-means++', max_iter = 300, n_init = 10, random_state = 0)\n",
    "    kmeans.fit(X2)\n",
    "    wcss.append(kmeans.inertia_)\n",
    "    \n",
    "#Plotting the results onto a line graph, allowing us to observe 'The elbow'\n",
    "plt.plot(range(1, len(X2)), wcss)\n",
    "plt.title('The elbow method')\n",
    "plt.xlabel('Number of clusters')\n",
    "plt.xlim(1,10)\n",
    "plt.ylabel('WCSS') #within cluster sum of squares\n",
    "plt.show()"
   ]
  },
  {
   "cell_type": "markdown",
   "metadata": {},
   "source": [
    "<h2>Identifying Optimum Clusters using Silhouette Score"
   ]
  },
  {
   "cell_type": "code",
   "execution_count": null,
   "metadata": {},
   "outputs": [],
   "source": [
    "maximum=-9999999\n",
    "optimum_cluster=0\n",
    "for n_clusters in range(2,len(X2)):\n",
    "    # Initialize the clusterer with n_clusters value and a random generator\n",
    "    # seed of 10 for reproducibility.\n",
    "    clusterer = KMeans(n_clusters=n_clusters, random_state=10)\n",
    "    cluster_labels = clusterer.fit_predict(X2)\n",
    "\n",
    "    # The silhouette_score gives the average value for all the samples.\n",
    "    # This gives a perspective into the density and separation of the formed\n",
    "    # clusters\n",
    "    silhouette_avg = silhouette_score(X2, cluster_labels)\n",
    "    if silhouette_avg>maximum:\n",
    "        maximum=silhouette_avg\n",
    "        optimum_cluster=n_clusters"
   ]
  },
  {
   "cell_type": "code",
   "execution_count": null,
   "metadata": {},
   "outputs": [],
   "source": [
    "print(\"Optimum Clusters identified at:\",optimum_cluster)"
   ]
  },
  {
   "cell_type": "code",
   "execution_count": null,
   "metadata": {},
   "outputs": [],
   "source": [
    "kmeans = KMeans(n_clusters = optimum_cluster, init = 'k-means++', max_iter = 300, n_init = 10, random_state = 0)\n",
    "y_kmeans = kmeans.fit_predict(X2)"
   ]
  },
  {
   "cell_type": "code",
   "execution_count": null,
   "metadata": {
    "scrolled": true
   },
   "outputs": [],
   "source": [
    "for i in range(len(X1)):\n",
    "    print(X1[i],\"Cluster\",y_kmeans[i])"
   ]
  },
  {
   "cell_type": "markdown",
   "metadata": {},
   "source": [
    "<h1> TCD"
   ]
  },
  {
   "cell_type": "code",
   "execution_count": null,
   "metadata": {},
   "outputs": [],
   "source": [
    "import math\n",
    "ctr=0\n",
    "l=[]\n",
    "col={}\n",
    "i=0\n",
    "for i in range(len(y_kmeans)):\n",
    "    col[y_kmeans[i]]=[]\n",
    "for key in col.keys():\n",
    "    temp=[]\n",
    "    for i in range(len(y_kmeans)):\n",
    "        if y_kmeans[i]==key:\n",
    "            temp.append(X1[i][4])            \n",
    "    col[key]=temp"
   ]
  },
  {
   "cell_type": "code",
   "execution_count": null,
   "metadata": {},
   "outputs": [],
   "source": [
    "col"
   ]
  },
  {
   "cell_type": "code",
   "execution_count": null,
   "metadata": {},
   "outputs": [],
   "source": [
    "cell=[]\n",
    "for key in col:\n",
    "    temp=[]\n",
    "    for i in range(len(col[key])):\n",
    "        #print(df['Word'][col[key][i]],i)\n",
    "        if i!=len(col[key])-1:\n",
    "            if ((abs(df['Y1'][col[key][i]]-df['Y1'][col[key][i+1]]))/df['Y1'][col[key][i]])<0.05:\n",
    "                print(df['Word'][col[key][i]],\"Cell\")\n",
    "                temp.append([df['Word'][col[key][i]],df['X1'][col[key][i]],\n",
    "                             df['Y1'][col[key][i]],df['X2'][col[key][i]],df['Y2'][col[key][i]]])\n",
    "            else:\n",
    "                temp.append([df['Word'][col[key][i]],df['X1'][col[key][i]],\n",
    "                             df['Y1'][col[key][i]],df['X2'][col[key][i]],df['Y2'][col[key][i]]])\n",
    "                cell.append(temp)\n",
    "                temp=[]\n",
    "        else:\n",
    "            if df['Y1'][col[key][i]]-df['Y1'][col[key][i-1]]<0.05:\n",
    "                print(df['Word'][col[key][i]],\"Cell\")\n",
    "                temp.append([df['Word'][col[key][i]],df['X1'][col[key][i]],\n",
    "                             df['Y1'][col[key][i]],df['X2'][col[key][i]],df['Y2'][col[key][i]]])\n",
    "                cell.append(temp)\n",
    "                temp=[]\n",
    "            else:\n",
    "                temp.append([df['Word'][col[key][i]],df['X1'][col[key][i]],\n",
    "                             df['Y1'][col[key][i]],df['X2'][col[key][i]],df['Y2'][col[key][i]]])\n",
    "                cell.append(temp)\n",
    "                temp=[]"
   ]
  },
  {
   "cell_type": "markdown",
   "metadata": {},
   "source": [
    "<h1>Checking functionality on training data"
   ]
  },
  {
   "cell_type": "code",
   "execution_count": 3,
   "metadata": {},
   "outputs": [],
   "source": [
    "box=\"\"\n",
    "img_dir = r\"/Users/KP/Documents/TCD/Data/\"\n",
    "os.chdir(img_dir)\n",
    "image_frame=pd.read_csv(\"train.csv\")\n",
    "img_dir = r\"/Users/KP/Documents/TCD/Data/images/\"\n",
    "os.chdir(img_dir)"
   ]
  },
  {
   "cell_type": "code",
   "execution_count": 30,
   "metadata": {},
   "outputs": [],
   "source": [
    "box=\"\"\n",
    "img_dir = r\"/Users/KP/Documents/TCD/Data/Test\"\n",
    "os.chdir(img_dir)\n",
    "image_frame=pd.read_csv(\"UniQ_Clustered.csv\",header=0)"
   ]
  },
  {
   "cell_type": "code",
   "execution_count": 31,
   "metadata": {},
   "outputs": [],
   "source": [
    "count=0\n",
    "for image_file in os.listdir(img_dir):\n",
    "    if image_file.endswith(\".png\"):\n",
    "        for i in range(len(image_frame['image_id'])):\n",
    "            if (image_file==image_frame['image_id'][i]):\n",
    "                count+=1\n",
    "                print(image_file,image_frame['image_id'][i],count)\n",
    "                img = cv2.imread(image_file)\n",
    "                d = pytesseract.image_to_data(img, output_type=Output.DICT)\n",
    "                n_boxes = len(d['level'])\n",
    "                #cv2.imwrite(image_file+'_bounded.jpg', img)\n",
    "                ctr=0\n",
    "                list_words=[]\n",
    "                temp_list=[]\n",
    "                flag=0\n",
    "                start=0\n",
    "                end=0\n",
    "                output_file=open(image_file[:-4]+\".csv\",'w')\n",
    "                box=\"X1,Y1,X2,Y2,Label,Word\\n\"\n",
    "                for j in range(n_boxes):\n",
    "                    (x, y, w, h) = (d['left'][j], d['top'][j], d['width'][j], d['height'][j])\n",
    "                    if d['level'][j]==5:#d['level'][i]!=1 and d['level'][i]!=2 and d['level']!=3:\n",
    "                        word_x1=d['left'][j]\n",
    "                        word_y1=d['top'][j]\n",
    "                        word_x2=d['left'][j]+d['width'][j]\n",
    "                        word_y2=d['top'][j]+d['height'][j]\n",
    "                        if ((word_x1>=image_frame['xmin'][i] and word_y1>=image_frame['ymin'][i]) and (word_x2<=image_frame['xmax'][i] and word_y2<=image_frame['ymax'][i])):\n",
    "                            #print(d['text'][i])\n",
    "                            box+=str(word_x1)+\",\"+str(word_y1)+\",\"+str(word_x2)+\",\"+str(word_y2)+\",\"+\"Table Cell,\"+d['text'][j]+\"\\n\"\n",
    "                output_file.write(box)\n",
    "                output_file.close()\n",
    "            else:\n",
    "                continue"
   ]
  },
  {
   "cell_type": "code",
   "execution_count": 21,
   "metadata": {},
   "outputs": [],
   "source": [
    "def image_create(filename,df):\n",
    "    li=[]\n",
    "    Xlist=[]\n",
    "    Ylist=[]\n",
    "    coord=[]\n",
    "    l=[]\n",
    "    img = cv2.imread(filename[:-4]+\".png\")\n",
    "    print(\"Image:\"+filename+\".png being created\")\n",
    "    for i in range(len(df['X1'])):\n",
    "        (x, y, w, h) = (df['X1'][i], df['Y1'][i], df['X2'][i]-df['X1'][i], df['Y2'][i]-df['Y1'][i])\n",
    "        cv2.rectangle(img, (x, y), (x + w, y + h), (0, 255, 0), 2)\n",
    "        temp=(df['X1'][i],df['X2'][i])#+df['Y2'][i])/2)\n",
    "        Xlist.append((df['X1'][i]+df['X2'][i])/2)\n",
    "        Ylist.append((df['Y1'][i]+df['Y2'][i])/2)\n",
    "        coord.append([Xlist[i],Ylist[i]])\n",
    "        if (i<len(df['Y1'])-1) and ((df['Y1'][i+1]-df['Y1'][i])/df['Y1'][i])<0.05:\n",
    "            print(df['Y1'][i],df['Y1'][i+1])\n",
    "            l.append(df['X1'][i])\n",
    "            print(df['Word'][i],df['Word'][i+1])\n",
    "            #temp=(df['X1'][i],df['Y1'][i])\n",
    "        li.append(temp)\n",
    "        cv2.imwrite(filename[:-4]+'custom.jpg', img)\n",
    "    #print(coord)\n",
    "    return coord"
   ]
  },
  {
   "cell_type": "code",
   "execution_count": 22,
   "metadata": {},
   "outputs": [],
   "source": [
    "def row_id(df,coord):\n",
    "    ctr=0\n",
    "    l=[]\n",
    "    i=0\n",
    "    Final=[]\n",
    "    while(i<len(df['X1'])):\n",
    "        ctr=i\n",
    "        while(ctr<len(df['X1'])):\n",
    "            if (ctr<len(df['Y1'])-1) and ((df['Y1'][ctr+1]-df['Y1'][ctr])/df['Y1'][ctr])<0.05:\n",
    "                #print(df['Y1'][ctr],df['Y1'][ctr+1],math.sqrt(abs(coord[ctr+1][1]**2)-(coord[ctr][1]**2)),df['Word'][ctr])\n",
    "                print(df['Word'][ctr],ctr,df['Word'][ctr+1])\n",
    "                l.append([float(df['X1'][ctr]),float(df['X2'][ctr]),float(math.sqrt(abs((coord[ctr+1][1]**2)-(coord[ctr][1]**2)))),df['Word'][ctr],ctr])\n",
    "                ctr+=1\n",
    "            else:\n",
    "                if (ctr<len(df['Y1'])-1) and ((df['Y1'][ctr]-df['Y1'][ctr-1])/df['Y1'][ctr-1])<0.05:\n",
    "                    print(df['Word'][ctr],ctr,df['Word'][ctr+1])\n",
    "                    l.append([float(df['X1'][ctr]),float(df['X2'][ctr]),float(math.sqrt(abs((coord[ctr+1][1]**2)-(coord[ctr][1]**2)))),df['Word'][ctr],ctr])\n",
    "                    ctr+=1\n",
    "                    i=ctr\n",
    "                else:\n",
    "                    ctr+=1\n",
    "                    i=ctr\n",
    "                if (len(l)>0):\n",
    "                    Final.append(l)\n",
    "                l=[]\n",
    "                break\n",
    "    X=[]\n",
    "    X1=[]\n",
    "    for item in Final:\n",
    "        for i in item:\n",
    "            X.append(i[:3])\n",
    "            X1.append(i)\n",
    "    X2=np.array(X)\n",
    "    return (X1,X2)"
   ]
  },
  {
   "cell_type": "code",
   "execution_count": 23,
   "metadata": {},
   "outputs": [],
   "source": [
    "def K_Means(X2):\n",
    "    wcss = []\n",
    "\n",
    "    for i in range(1, len(X2)):\n",
    "        kmeans = KMeans(n_clusters = i, init = 'k-means++', max_iter = 300, n_init = 10, random_state = 0)\n",
    "        kmeans.fit(X2)\n",
    "        wcss.append(kmeans.inertia_)\n",
    "\n",
    "    #Plotting the results onto a line graph, allowing us to observe 'The elbow'\n",
    "    plt.plot(range(1, len(X2)), wcss)\n",
    "    plt.title('The elbow method')\n",
    "    plt.xlabel('Number of clusters')\n",
    "    plt.xlim(1,10)\n",
    "    plt.ylabel('WCSS') #within cluster sum of squares\n",
    "    plt.show()\n",
    "    maximum=-9999999\n",
    "    optimum_cluster=0\n",
    "    for n_clusters in range(2,len(X2)):\n",
    "        # Initialize the clusterer with n_clusters value and a random generator\n",
    "        # seed of 10 for reproducibility.\n",
    "        clusterer = KMeans(n_clusters=n_clusters, random_state=10)\n",
    "        cluster_labels = clusterer.fit_predict(X2)\n",
    "\n",
    "        # The silhouette_score gives the average value for all the samples.\n",
    "        # This gives a perspective into the density and separation of the formed\n",
    "        # clusters\n",
    "        silhouette_avg = silhouette_score(X2, cluster_labels)\n",
    "        if silhouette_avg>maximum:\n",
    "            maximum=silhouette_avg\n",
    "            optimum_cluster=n_clusters\n",
    "    print(\"Optimum Clusters identified at:\",optimum_cluster)\n",
    "    kmeans = KMeans(n_clusters = optimum_cluster, init = 'k-means++', max_iter = 300, n_init = 10, random_state = 0)\n",
    "    y_kmeans = kmeans.fit_predict(X2)\n",
    "    return (optimum_cluster,y_kmeans)"
   ]
  },
  {
   "cell_type": "code",
   "execution_count": 24,
   "metadata": {},
   "outputs": [],
   "source": [
    "def TCD(X1,y_kmeans):\n",
    "    ctr=0\n",
    "    l=[]\n",
    "    col={}\n",
    "    i=0\n",
    "    for i in range(len(y_kmeans)):\n",
    "        col[y_kmeans[i]]=[]\n",
    "    for key in col.keys():\n",
    "        temp=[]\n",
    "        for i in range(len(y_kmeans)):\n",
    "            if y_kmeans[i]==key:\n",
    "                temp.append(X1[i][4])            \n",
    "        col[key]=temp\n",
    "    cell=[]\n",
    "    for key in col:\n",
    "        temp=[]\n",
    "        for i in range(len(col[key])):\n",
    "            #print(df['Word'][col[key][i]],i)\n",
    "            if i!=len(col[key])-1:\n",
    "                if ((abs(df['Y1'][col[key][i]]-df['Y1'][col[key][i+1]]))/df['Y1'][col[key][i]])<0.05:\n",
    "                    print(df['Word'][col[key][i]],\"Cell\")\n",
    "                    temp.append([df['Word'][col[key][i]],df['X1'][col[key][i]],\n",
    "                                 df['Y1'][col[key][i]],df['X2'][col[key][i]],df['Y2'][col[key][i]]])\n",
    "                else:\n",
    "                    temp.append([df['Word'][col[key][i]],df['X1'][col[key][i]],\n",
    "                                 df['Y1'][col[key][i]],df['X2'][col[key][i]],df['Y2'][col[key][i]]])\n",
    "                    cell.append(temp)\n",
    "                    temp=[]\n",
    "            else:\n",
    "                if df['Y1'][col[key][i]]-df['Y1'][col[key][i-1]]<0.05:\n",
    "                    print(df['Word'][col[key][i]],\"Cell\")\n",
    "                    temp.append([df['Word'][col[key][i]],df['X1'][col[key][i]],\n",
    "                                 df['Y1'][col[key][i]],df['X2'][col[key][i]],df['Y2'][col[key][i]]])\n",
    "                    cell.append(temp)\n",
    "                    temp=[]\n",
    "                else:\n",
    "                    temp.append([df['Word'][col[key][i]],df['X1'][col[key][i]],\n",
    "                                 df['Y1'][col[key][i]],df['X2'][col[key][i]],df['Y2'][col[key][i]]])\n",
    "                    cell.append(temp)\n",
    "                    temp=[]\n",
    "    return cell"
   ]
  },
  {
   "cell_type": "code",
   "execution_count": 25,
   "metadata": {},
   "outputs": [],
   "source": [
    "def clustered_image(filename,cells):\n",
    "    img = cv2.imread(filename[:-4]+\".png\")\n",
    "    for cell in cells:\n",
    "        xstart=9999\n",
    "        ystart=9999\n",
    "        xend=-9999\n",
    "        yend=-9999\n",
    "        for word in cell:\n",
    "            if word[1]<xstart:\n",
    "                xstart=word[1]\n",
    "            if word[2]<ystart:\n",
    "                ystart=word[2]\n",
    "            if word[3]>xend:\n",
    "                xend=word[3]\n",
    "            if word[4]>yend:\n",
    "                yend=word[4]\n",
    "        (x, y, w, h) = (xstart,ystart,xend-xstart,yend-ystart)\n",
    "        cv2.rectangle(img, (x, y), (x + w, y + h), (0, 255, 0), 2)\n",
    "        cv2.imwrite(filename[:-4]+\"_Clustered.png\", img)"
   ]
  },
  {
   "cell_type": "code",
   "execution_count": 26,
   "metadata": {
    "scrolled": true
   },
   "outputs": [],
   "source": [
    "def Clustered_File(csv_file,cells):\n",
    "    string=\"Word,X1,Y1,X2,Y2,Cell,Number of clusters\\n\"\n",
    "    count=0\n",
    "    for cell in cells:\n",
    "        count+=1\n",
    "        for subitem in cell:\n",
    "            string+=str(subitem[0])+\",\"+str(subitem[1])+\",\"+str(subitem[2])+\",\"+str(subitem[3])+\",\"+str(subitem[4])+\",\"+str(count)+\",\"+str(n_cluster)+\"\\n\"\n",
    "    Output_File=open(\"Clustered_\"+csv_file,\"w\")\n",
    "    Output_File.write(string)\n",
    "    Output_File.close()"
   ]
  },
  {
   "cell_type": "code",
   "execution_count": 29,
   "metadata": {},
   "outputs": [
    {
     "name": "stdout",
     "output_type": "stream",
     "text": [
      "UQ_Clustered.csv\n",
      "Image:UQ_Clustered.csv.png being created\n",
      "1533 575\n",
      "UniQ_Clustered.csv\n",
      "Image:UniQ_Clustered.csv.png being created\n",
      "1583 628\n",
      "Clustered.csv\n",
      "Image:Clustered.csv.png being created\n",
      "2264 613\n"
     ]
    }
   ],
   "source": [
    "flag=0\n",
    "for csv_file in os.listdir(img_dir):\n",
    "    if csv_file.endswith(\".csv\"):\n",
    "        print(csv_file)\n",
    "        try:\n",
    "            df=pd.read_csv(csv_file,usecols=[0,1,2,3,4,5],header=0)\n",
    "            coord=image_create(csv_file,df)\n",
    "            (X1,X2)=row_id(df,coord)\n",
    "            (n_cluster,y_kmeans)=K_Means(X2)\n",
    "            cells=TCD(X1,y_kmeans)\n",
    "            clustered_image(csv_file,cells)\n",
    "            Clustered_File(csv_file,cells)\n",
    "            flag=1\n",
    "        except (KeyError,IndexError):\n",
    "            pass"
   ]
  }
 ],
 "metadata": {
  "kernelspec": {
   "display_name": "Python 3",
   "language": "python",
   "name": "python3"
  },
  "language_info": {
   "codemirror_mode": {
    "name": "ipython",
    "version": 3
   },
   "file_extension": ".py",
   "mimetype": "text/x-python",
   "name": "python",
   "nbconvert_exporter": "python",
   "pygments_lexer": "ipython3",
   "version": "3.7.2"
  }
 },
 "nbformat": 4,
 "nbformat_minor": 2
}
